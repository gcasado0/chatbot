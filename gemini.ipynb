{
 "cells": [
  {
   "cell_type": "code",
   "execution_count": 4,
   "metadata": {},
   "outputs": [
    {
     "name": "stderr",
     "output_type": "stream",
     "text": [
      "/home/gcasado0/proyectos/chatbot/chatbot/lib/python3.12/site-packages/tqdm/auto.py:21: TqdmWarning: IProgress not found. Please update jupyter and ipywidgets. See https://ipywidgets.readthedocs.io/en/stable/user_install.html\n",
      "  from .autonotebook import tqdm as notebook_tqdm\n"
     ]
    }
   ],
   "source": [
    "import google.generativeai as genai\n",
    "import textwrap\n",
    "import requests\n",
    "from bs4 import BeautifulSoup\n",
    "from sklearn.feature_extraction.text import TfidfVectorizer\n",
    "from sklearn.metrics.pairwise import cosine_similarity\n",
    "import numpy as np\n",
    "\n",
    "def to_markdown(text):\n",
    "    text = text.replace('•', '  *')\n",
    "    return textwrap.indent(text, '> ', predicate=lambda _: True)\n",
    "\n",
    "def get_text_from_url(url):\n",
    "    response = requests.get(url)\n",
    "    soup = BeautifulSoup(response.content, 'html.parser')\n",
    "    paragraphs = soup.find_all('p')\n",
    "    text = ' '.join([para.get_text() for para in paragraphs])\n",
    "    return text\n",
    "\n",
    "def split_text(text, chunk_size=1000, overlap=200):\n",
    "    chunks = []\n",
    "    start = 0\n",
    "    while start < len(text):\n",
    "        end = min(start + chunk_size, len(text))\n",
    "        chunks.append(text[start:end])\n",
    "        start += chunk_size - overlap\n",
    "    return chunks\n"
   ]
  },
  {
   "cell_type": "code",
   "execution_count": 11,
   "metadata": {},
   "outputs": [
    {
     "name": "stdout",
     "output_type": "stream",
     "text": [
      "/home/gcasado0\n"
     ]
    }
   ],
   "source": [
    "# Used to securely store your API key\n",
    "import os\n",
    "\n",
    "GOOGLE_API_KEY = os.getenv('GOOGLE_API_KEY')\n",
    "print(GOOGLE_API_KEY)"
   ]
  },
  {
   "cell_type": "code",
   "execution_count": null,
   "metadata": {},
   "outputs": [],
   "source": [
    "genai.configure(api_key=GOOGLE_API_KEY)\n",
    "\n",
    "model = genai.GenerativeModel('gemini-1.5-flash')"
   ]
  },
  {
   "cell_type": "code",
   "execution_count": 20,
   "metadata": {},
   "outputs": [],
   "source": [
    "# Lista de URLs\n",
    "urls = [\n",
    "    \"https://www.rosario.gob.ar/inicio/licencia-de-conducir\",\n",
    "    \"https://www.rosario.gob.ar/inicio/duplicado-de-licencia-de-conducir\",\n",
    "    \"https://www.rosario.gob.ar/inicio/nueva-licencia-de-conducir\",\n",
    "    \"https://www.rosario.gob.ar/inicio/renovacion-de-licencia-de-conducir\",\n",
    "    \"https://www.rosario.gob.ar/inicio/renovacion-de-licencia-de-conducir-con-ampliacion\"\n",
    "]\n",
    "\n",
    "# Obtener y dividir el contenido de las páginas web\n",
    "documents = []\n",
    "for url in urls:\n",
    "    text = get_text_from_url(url)\n",
    "    chunks = split_text(text)\n",
    "    documents.extend(chunks)"
   ]
  },
  {
   "cell_type": "code",
   "execution_count": 8,
   "metadata": {},
   "outputs": [],
   "source": [
    "# Crear un índice de búsqueda usando TF-IDF\n",
    "vectorizer = TfidfVectorizer()\n",
    "vectors = vectorizer.fit_transform(documents).toarray()"
   ]
  },
  {
   "cell_type": "code",
   "execution_count": 9,
   "metadata": {},
   "outputs": [],
   "source": [
    "def retrieve_relevant_docs(query, k=5):\n",
    "    #query_vec = vectorizer.transform([query]).toarray()\n",
    "    query_vec = vectorizer.transform([query])\n",
    "    similarities = cosine_similarity(query_vec, vectors).flatten()\n",
    "    indices = np.argsort(similarities)[-k:]\n",
    "    return [documents[i] for i in indices]\n"
   ]
  },
  {
   "cell_type": "code",
   "execution_count": 22,
   "metadata": {},
   "outputs": [
    {
     "name": "stdout",
     "output_type": "stream",
     "text": [
      "> Para el duplicado de tu licencia de conducir por extravío, necesitarás llevar la siguiente documentación al momento del turno (15 minutos antes):\n",
      "> \n",
      "> * **Declaración jurada por extravío:** (Debes descargarla y completarla previamente).\n",
      "> * **DNI.**\n",
      "> * **Certificado de Legalidad en original:** De la autoridad que emitió la licencia, con sellos oficiales, membrete, firma y sello de un personal jerárquico.  (Esto evita la leyenda \"Principiante\" y sirve como antecedente si tienes categoría profesional).\n",
      "> * **Boletas abonadas:**  CeNAT ($6.800) y sellado municipal (monto variable según el tiempo transcurrido desde el último psicofísico).  Recuerda que el pago se realiza por separado a pesar de que la boleta sea una sola.\n",
      "> \n",
      "> \n",
      "> Además, según tu situación y si corresponde a lo establecido en la normativa vigente, deberás llevar otras documentaciones o realizar otros trámites (psicofísico, curso teórico, exámenes teórico y práctico) que se detallan en la información proporcionada.  Recuerda verificar si necesitas realizar un nuevo psicofísico dependiendo de cuándo fue realizado el último.\n",
      "\n"
     ]
    }
   ],
   "source": [
    "# Consultar el índice y generar una respuesta\n",
    "query = \"extravie mi licencia que tengo que llevar para hacer el duplicado? responder en español\"\n",
    "relevant_docs = retrieve_relevant_docs(query)\n",
    "context = \" \".join(relevant_docs)\n",
    "\n",
    "response = model.generate_content(f\"Contexto: {context}\\n\\nPregunta: {query}\")\n",
    "markdown_response = to_markdown(response.text)\n",
    "print(markdown_response)\n"
   ]
  },
  {
   "cell_type": "code",
   "execution_count": null,
   "metadata": {},
   "outputs": [],
   "source": []
  },
  {
   "cell_type": "code",
   "execution_count": 13,
   "metadata": {},
   "outputs": [
    {
     "name": "stdout",
     "output_type": "stream",
     "text": [
      "> El costo de renovar una licencia es de $6.800.  Sin embargo, el texto indica que este precio puede variar según la duración de la licencia.\n",
      "\n"
     ]
    }
   ],
   "source": [
    "# Consultar el índice y generar una respuesta\n",
    "query = \"Cual es el costo de renovar una licencia? responder en español\"\n",
    "relevant_docs = retrieve_relevant_docs(query)\n",
    "context = \" \".join(relevant_docs)\n",
    "\n",
    "response = model.generate_content(f\"Contexto: {context}\\n\\nPregunta: {query}\")\n",
    "markdown_response = to_markdown(response.text)\n",
    "print(markdown_response)"
   ]
  },
  {
   "cell_type": "code",
   "execution_count": 21,
   "metadata": {},
   "outputs": [
    {
     "name": "stdout",
     "output_type": "stream",
     "text": [
      "Este trámite se realiza si querés agregar o quitar clases a una licencia vigente emitida por la Provincia de Santa Fe o si debés renovarla, modificando las clases en ese mismo momento. Para realizar trámites online en la Muni es necesario que tengas Perfil Digital. Si todavía no tenes una cuenta, registrate. Si cumplis con los requisitos: Agendá un turno Una vez agendado, te va a llegar un mail como constancia de turno en el que vas a tener a mano lo que necesitás saber para asistir el día del examen. El próximo paso es abonar los sellados. Tiene un costo de $6.800 El costo varía según la duración de la licencia. El día del turno presentate 15 minutos antes con la siguiente documentación: Solo si corresponde: De manera virtual De manera presencial Tené en cuenta que la boleta es una sola, pero contiene dos códigos de barra que se abonan por separado: sellado municipal y colegio de médicos. De manera virtual De manera presencial Una vez que apruebes el psicofísico y antes de rendir el e Este trámite se realiza si querés obtener tu licencia de conducir por primera vez en la Provincia de Santa Fe, si tu licencia venció hace más de un año o si tu licencia fue emitida en otra provincia o en una localidad no adherida al sistema nacional. Para realizar trámites online en la Muni es necesario que tengas Perfil Digital. Si todavía no tenes una cuenta, registrate. Solo si corresponde: Si cumplis con los requisitos: Agendá un turno Una vez agendado, te va a llegar un mail como constancia de turno en el que vas a tener a mano lo que necesitás saber para asistir el día del examen. El próximo paso es abonar los sellados. Tiene un costo de $6.800 El costo varía según la duración de la licencia. Es necesario que al momento del turno del psicofísico, las boletas estén abonadas. El día del turno presentate 15 minutos antes con la siguiente documentación: Solo si corresponde: De manera virtual De manera presencial Tené en cuenta que la boleta es una sola, pero contiene dos códigos de b Este trámite se realiza si querés obtener el duplicado de una licencia emitida en la provincia de Santa Fe por robo, pérdida o modificación de datos personales y/o restricciones. Para realizar trámites online en la Muni es necesario que tengas Perfil Digital. Si todavía no tenes una cuenta, registrate. Solo si corresponde: Descargar y completar la Declaración jurada por extravío. Únicamente tenes que rendir el psicofísico si: Si pasó menos de un año de la fecha en que rendiste el psicofísico de la licencia a duplicar no tenés que rendirlo nuevamente, tampoco el teórico ni el práctico. Agendá un turno. Si cumplis con los requisitos: Agendá un turno Si querés duplicar una licencia profesional de servicios públicos (D1, D2 o D3) enviá un correo a turnosclasesd@rosario.gob.ar incluyendo tu nombre y apellido, DNI y un teléfono de contacto. Una vez agendado, te va a llegar un mail como constancia de turno en el que vas a tener a mano lo que necesitás saber para asistir el día del examen. El  os los tiempos de tramitación, recordá iniciar el trámite con una anticipación más amplia de lo habitual para evitar el vencimiento de tu licencia actual. Deberán llevar la leyenda \"Principiante\". Para evitar que aparezca, presentá un Certificado de Legalidad en original de la autoridad que emitió la licencia con sellos oficiales, membrete, firma y sello de un personal jerárquico. El certificado también te servirá como antecedente en caso de contar con una categoría profesional. Es el único espacio habilitado en la ciudad para practicar la conducción de vehículos particulares. Es cerrado y se ubica en el predio del Parque Alem. Cuenta con semáforos, cruces y una rotonda. Días y horarios disponibles para practicar: Podrás circular legalmente con la licencia de conducir de tu país de origen durante 90 días, el mismo tiempo que dura la visa para turismo en Argentina. Ordenanza N° 6543/1998\n",
      "Ley Nacional N° 24449/2014\n",
      "Ley Nacional N° 26.363/2018\n",
      "Ley Provincial N° 13133/2010 Si tenés consult bre y apellido, DNI y un teléfono de contacto. Una vez agendado, te va a llegar un mail como constancia de turno en el que vas a tener a mano lo que necesitás saber para asistir el día del examen. El próximo paso es abonar los sellados. Si pasó menos de un año de la fecha en que rendiste el psicofísico de la licencia a duplicar deberás abonar $6.800 del Certificado Nacional de Antecedentes de Tránsito (CeNAT) y $5.726,70 del sellado municipal. Si pasó más de un año de la fecha en que rendiste el psicofísico de la licencia a duplicar deberás abonar $6.800 del Certificado Nacional de Antecedentes de Tránsito (CeNAT) y el monto del sellado municipal según los años de vigencia restantes que tenga la licencia: Es necesario que al momento del turno del psicofísico, las boletas estén abonadas. El día del turno presentate 15 minutos antes con la siguiente documentación: Solo si corresponde: Una vez que completes las instancias correspondientes obtendrás el duplicado de tu Licencia Nacional de \n"
     ]
    },
    {
     "data": {
      "text/plain": [
       "'> El texto indica que el costo del Certificado Nacional de Antecedentes de Tránsito (CeNAT) es de $6.800  para duplicados de licencia si pasó menos de un año desde el último psicofísico.  Sin embargo, **el texto no especifica cómo pagar el CeNAT**.  Para saber cómo abonarlo, deberías consultar la página web de la municipalidad de Rosario o comunicarse con ellos directamente.\\n'"
      ]
     },
     "metadata": {},
     "output_type": "display_data"
    }
   ],
   "source": [
    "# Consultar el índice y generar una respuesta\n",
    "query = \"Como hago para pagar el cenat? responder en español\"\n",
    "relevant_docs = retrieve_relevant_docs(query)\n",
    "context = \" \".join(relevant_docs)\n",
    "print(context)\n",
    "\n",
    "response = model.generate_content(f\"Contexto: {context}\\n\\nPregunta: {query}\")\n",
    "markdown_response = to_markdown(response.text)\n",
    "display(markdown_response)"
   ]
  },
  {
   "cell_type": "code",
   "execution_count": null,
   "metadata": {},
   "outputs": [],
   "source": []
  }
 ],
 "metadata": {
  "kernelspec": {
   "display_name": "chatbot",
   "language": "python",
   "name": "python3"
  },
  "language_info": {
   "codemirror_mode": {
    "name": "ipython",
    "version": 3
   },
   "file_extension": ".py",
   "mimetype": "text/x-python",
   "name": "python",
   "nbconvert_exporter": "python",
   "pygments_lexer": "ipython3",
   "version": "3.12.3"
  }
 },
 "nbformat": 4,
 "nbformat_minor": 2
}
