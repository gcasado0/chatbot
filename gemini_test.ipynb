{
 "cells": [
  {
   "cell_type": "code",
   "execution_count": 1,
   "metadata": {},
   "outputs": [
    {
     "name": "stderr",
     "output_type": "stream",
     "text": [
      "/home/gcasado0/proyectos/chatbot/chatbot/lib/python3.12/site-packages/tqdm/auto.py:21: TqdmWarning: IProgress not found. Please update jupyter and ipywidgets. See https://ipywidgets.readthedocs.io/en/stable/user_install.html\n",
      "  from .autonotebook import tqdm as notebook_tqdm\n"
     ]
    }
   ],
   "source": [
    "import google.generativeai as genai"
   ]
  },
  {
   "cell_type": "code",
   "execution_count": 1,
   "metadata": {},
   "outputs": [],
   "source": [
    "# Used to securely store your API key\n",
    "import os\n",
    "\n",
    "GOOGLE_API_KEY = os.getenv('GOOGLE_API_KEY')"
   ]
  },
  {
   "cell_type": "code",
   "execution_count": 3,
   "metadata": {},
   "outputs": [],
   "source": [
    "genai.configure(api_key=GOOGLE_API_KEY)\n",
    "\n",
    "model = genai.GenerativeModel('gemini-1.5-flash')"
   ]
  },
  {
   "cell_type": "code",
   "execution_count": 4,
   "metadata": {},
   "outputs": [],
   "source": [
    "context='Eres un chabot'\n",
    "query='¿Cómo te llamas?'\n",
    "response = model.generate_content(f\"Contexto: {context}\\n\\nPregunta: {query}\")"
   ]
  },
  {
   "cell_type": "code",
   "execution_count": 6,
   "metadata": {},
   "outputs": [
    {
     "data": {
      "text/plain": [
       "'No tengo nombre.  Soy un modelo de lenguaje grande.\\n'"
      ]
     },
     "execution_count": 6,
     "metadata": {},
     "output_type": "execute_result"
    }
   ],
   "source": [
    "response.text"
   ]
  },
  {
   "cell_type": "code",
   "execution_count": 7,
   "metadata": {},
   "outputs": [
    {
     "name": "stdout",
     "output_type": "stream",
     "text": [
      "To get the best results from a model, provide clear and specific instructions, even if that means using longer prompts to give sufficient context.\n",
      "\n"
     ]
    }
   ],
   "source": [
    "text = f\"\"\"\n",
    "You should express what you want a model to do by  \n",
    "providing instructions that are as clear and \n",
    "specific as you can possibly make them. \n",
    "This will guide the model towards the desired output, \n",
    "and reduce the chances of receiving irrelevant \n",
    "or incorrect responses. Don't confuse writing a \n",
    "clear prompt with writing a short prompt. \n",
    "In many cases, longer prompts provide more clarity \n",
    "and context for the model, which can lead to \n",
    "more detailed and relevant outputs.\n",
    "\"\"\"\n",
    "prompt = f\"\"\"\n",
    "Summarize the text delimited by triple backticks \n",
    "into a single sentence.\n",
    "```{text}```\n",
    "\"\"\"\n",
    "response = model.generate_content(prompt)\n",
    "print(response.text)"
   ]
  },
  {
   "cell_type": "code",
   "execution_count": 8,
   "metadata": {},
   "outputs": [],
   "source": [
    "lamp_review = \"\"\"\n",
    "Needed a nice lamp for my bedroom, and this one had \\\n",
    "additional storage and not too high of a price point. \\\n",
    "Got it fast.  The string to our lamp broke during the \\\n",
    "transit and the company happily sent over a new one. \\\n",
    "Came within a few days as well. It was easy to put \\\n",
    "together.  I had a missing part, so I contacted their \\\n",
    "support and they very quickly got me the missing piece! \\\n",
    "Lumina seems to me to be a great company that cares \\\n",
    "about their customers and products!!\n",
    "\"\"\""
   ]
  },
  {
   "cell_type": "code",
   "execution_count": 10,
   "metadata": {},
   "outputs": [
    {
     "name": "stdout",
     "output_type": "stream",
     "text": [
      "The sentiment of the review is overwhelmingly **positive**.  The reviewer praises the lamp's features (storage, price), the fast shipping, the company's excellent customer service in resolving the broken string and missing part issues, and expresses overall satisfaction with both the product and the company.\n",
      "\n"
     ]
    }
   ],
   "source": [
    "prompt = f\"\"\"\n",
    "What is the sentiment of the following product review, \n",
    "which is delimited with triple backticks?\n",
    "\n",
    "Review text: '''{lamp_review}'''\n",
    "\"\"\"\n",
    "response = model.generate_content(prompt)\n",
    "print(response.text)"
   ]
  },
  {
   "cell_type": "code",
   "execution_count": 11,
   "metadata": {},
   "outputs": [
    {
     "name": "stdout",
     "output_type": "stream",
     "text": [
      "satisfaction, gratitude, relief, happiness,  trust\n",
      "\n"
     ]
    }
   ],
   "source": [
    "prompt = f\"\"\"\n",
    "Identify a list of emotions that the writer of the \\\n",
    "following review is expressing. Include no more than \\\n",
    "five items in the list. Format your answer as a list of \\\n",
    "lower-case words separated by commas.\n",
    "\n",
    "Review text: '''{lamp_review}'''\n",
    "\"\"\"\n",
    "response = model.generate_content(prompt)\n",
    "print(response.text)"
   ]
  },
  {
   "cell_type": "code",
   "execution_count": 12,
   "metadata": {},
   "outputs": [
    {
     "name": "stdout",
     "output_type": "stream",
     "text": [
      "```json\n",
      "{\n",
      "  \"Sentiment\": \"positive\",\n",
      "  \"Anger\": false,\n",
      "  \"Item\": \"lamp\",\n",
      "  \"Brand\": \"Lumina\"\n",
      "}\n",
      "```\n",
      "\n"
     ]
    }
   ],
   "source": [
    "prompt = f\"\"\"\n",
    "Identify the following items from the review text: \n",
    "- Sentiment (positive or negative)\n",
    "- Is the reviewer expressing anger? (true or false)\n",
    "- Item purchased by reviewer\n",
    "- Company that made the item\n",
    "\n",
    "The review is delimited with triple backticks. \\\n",
    "Format your response as a JSON object with \\\n",
    "\"Sentiment\", \"Anger\", \"Item\" and \"Brand\" as the keys.\n",
    "If the information isn't present, use \"unknown\" \\\n",
    "as the value.\n",
    "Make your response as short as possible.\n",
    "Format the Anger value as a boolean.\n",
    "\n",
    "Review text: '''{lamp_review}'''\n",
    "\"\"\"\n",
    "\n",
    "response = model.generate_content(prompt)\n",
    "print(response.text)"
   ]
  },
  {
   "cell_type": "code",
   "execution_count": 13,
   "metadata": {},
   "outputs": [
    {
     "name": "stdout",
     "output_type": "stream",
     "text": [
      "Employee satisfaction, NASA, Government survey, Job satisfaction, Social Security\n",
      "\n"
     ]
    }
   ],
   "source": [
    "story = \"\"\"\n",
    "In a recent survey conducted by the government, \n",
    "public sector employees were asked to rate their level \n",
    "of satisfaction with the department they work at. \n",
    "The results revealed that NASA was the most popular \n",
    "department with a satisfaction rating of 95%.\n",
    "\n",
    "One NASA employee, John Smith, commented on the findings, \n",
    "stating, \"I'm not surprised that NASA came out on top. \n",
    "It's a great place to work with amazing people and \n",
    "incredible opportunities. I'm proud to be a part of \n",
    "such an innovative organization.\"\n",
    "\n",
    "The results were also welcomed by NASA's management team, \n",
    "with Director Tom Johnson stating, \"We are thrilled to \n",
    "hear that our employees are satisfied with their work at NASA. \n",
    "We have a talented and dedicated team who work tirelessly \n",
    "to achieve our goals, and it's fantastic to see that their \n",
    "hard work is paying off.\"\n",
    "\n",
    "The survey also revealed that the \n",
    "Social Security Administration had the lowest satisfaction \n",
    "rating, with only 45% of employees indicating they were \n",
    "satisfied with their job. The government has pledged to \n",
    "address the concerns raised by employees in the survey and \n",
    "work towards improving job satisfaction across all departments.\n",
    "\"\"\"\n",
    "\n",
    "prompt = f\"\"\"\n",
    "Determine five topics that are being discussed in the \\\n",
    "following text, which is delimited by triple backticks.\n",
    "\n",
    "Make each item one or two words long. \n",
    "\n",
    "Format your response as a list of items separated by commas.\n",
    "\n",
    "Text sample: '''{story}'''\n",
    "\"\"\"\n",
    "response = model.generate_content(prompt)\n",
    "print(response.text)"
   ]
  },
  {
   "cell_type": "code",
   "execution_count": 23,
   "metadata": {},
   "outputs": [
    {
     "name": "stdout",
     "output_type": "stream",
     "text": [
      "```json\n",
      "{\n",
      "  \"Temas\": \"Renovación, Habilitación, Municipal, Sistema, Diferencias\",\n",
      "  \"Sentimiento\": \"Frustración\",\n",
      "  \"Enojo\": \"No\"\n",
      "}\n",
      "```\n",
      "\n"
     ]
    }
   ],
   "source": [
    "consulta = \"\"\"\n",
    "\"Buenas tardes, \n",
    "al intentar iniciar el tramite de renovación de habilitación Municipal sin modificaciones el sistema nos devuelve el siguiente mensaje:\n",
    "\"\"Advertencia\n",
    "Deberás realizar el Trámite de Renovación con modificaciones - Modificar Actividad porque hemos detectado diferencias entre la/s actividad/es y el/los destino/s del último certificado otorgado.\"\"\n",
    "como debemos proceder para renovar la habilitación y cuales son las diferencias detectadas?\n",
    "Gracias\n",
    "Saludos\n",
    "\"\"\"\n",
    "\n",
    "prompt = f\"\"\"\n",
    "Determine cinco temas que se están tratando en el siguiente texto, que está delimitado por tres comillas invertidas.\n",
    "Haga que cada elemento tenga una o dos palabras.\n",
    "Formatee su respuesta como una lista de elementos separados por comas.\n",
    "Indique el sentimiento general del texto.\n",
    "Indique si el remitente está expresando enojo.\n",
    "Texto: '''{consulta}'''\n",
    "Salida en formato JSON:\n",
    "\"Temas\": \n",
    "\"Sentimiento\": \n",
    "\"Enojo\": \"Si/No\"\n",
    "\"\"\"\n",
    "response = model.generate_content(prompt)\n",
    "print(response.text)"
   ]
  },
  {
   "cell_type": "markdown",
   "metadata": {},
   "source": [
    "Recorrer la lista de consultas de habilitaciones y obtener tematicas claves y sentimientos de las mismas\n"
   ]
  },
  {
   "cell_type": "code",
   "execution_count": 25,
   "metadata": {},
   "outputs": [
    {
     "data": {
      "text/html": [
       "<div>\n",
       "<style scoped>\n",
       "    .dataframe tbody tr th:only-of-type {\n",
       "        vertical-align: middle;\n",
       "    }\n",
       "\n",
       "    .dataframe tbody tr th {\n",
       "        vertical-align: top;\n",
       "    }\n",
       "\n",
       "    .dataframe thead th {\n",
       "        text-align: right;\n",
       "    }\n",
       "</style>\n",
       "<table border=\"1\" class=\"dataframe\">\n",
       "  <thead>\n",
       "    <tr style=\"text-align: right;\">\n",
       "      <th></th>\n",
       "      <th>Serial number</th>\n",
       "      <th>Submission ID</th>\n",
       "      <th>Submission URI</th>\n",
       "      <th>Creado</th>\n",
       "      <th>La consulta es</th>\n",
       "      <th>Domicilio: Dirección del consultante</th>\n",
       "      <th>Domicilio: ubi_o_outRos</th>\n",
       "      <th>Domicilio: Piso</th>\n",
       "      <th>Domicilio: Dpto</th>\n",
       "      <th>Domicilio: id_calle</th>\n",
       "      <th>...</th>\n",
       "      <th>Número de: establecimiento o certficado de hablitación o TGI</th>\n",
       "      <th>Contenido consulta</th>\n",
       "      <th>codigo_gestion</th>\n",
       "      <th>PDF</th>\n",
       "      <th>cuit</th>\n",
       "      <th>nivel</th>\n",
       "      <th>mail</th>\n",
       "      <th>access_token</th>\n",
       "      <th>cod_tramite</th>\n",
       "      <th>Análisis de la rta</th>\n",
       "    </tr>\n",
       "  </thead>\n",
       "  <tbody>\n",
       "    <tr>\n",
       "      <th>0</th>\n",
       "      <td>499</td>\n",
       "      <td>1794755</td>\n",
       "      <td>/node/1754?check_logged_in=1</td>\n",
       "      <td>2024-01-03 09:26:32</td>\n",
       "      <td>Para una tercera persona</td>\n",
       "      <td>NUEVE DE JULIO y RODRIGUEZ MARTIN</td>\n",
       "      <td>NaN</td>\n",
       "      <td>NaN</td>\n",
       "      <td>NaN</td>\n",
       "      <td>72000.0</td>\n",
       "      <td>...</td>\n",
       "      <td>3185320</td>\n",
       "      <td>- la actividad declarada 829100 corresponde a ...</td>\n",
       "      <td>3423-2024</td>\n",
       "      <td>https://gestorpic.rosario.gob.ar/inicio/webfor...</td>\n",
       "      <td>27147589943</td>\n",
       "      <td></td>\n",
       "      <td>alepedrido@hotmail.com</td>\n",
       "      <td>eyJhbGciOiJSUzI1NiIsInR5cCIgOiAiSldUIiwia2lkIi...</td>\n",
       "      <td>755</td>\n",
       "      <td>Lo enviaron al CMD dado que con el nro. de est...</td>\n",
       "    </tr>\n",
       "    <tr>\n",
       "      <th>1</th>\n",
       "      <td>500</td>\n",
       "      <td>1798854</td>\n",
       "      <td>/node/1754</td>\n",
       "      <td>2024-01-04 09:13:08</td>\n",
       "      <td>Para mí</td>\n",
       "      <td>CORDOBA 1000</td>\n",
       "      <td>NaN</td>\n",
       "      <td>NaN</td>\n",
       "      <td>NaN</td>\n",
       "      <td>43000.0</td>\n",
       "      <td>...</td>\n",
       "      <td>NaN</td>\n",
       "      <td>Buenos días. Quisiera consultar \"Qué tipo de h...</td>\n",
       "      <td>5585-2024</td>\n",
       "      <td>https://gestorpic.rosario.gob.ar/inicio/webfor...</td>\n",
       "      <td>27373328451</td>\n",
       "      <td></td>\n",
       "      <td>jumadacunhakessler@gmail.com</td>\n",
       "      <td>eyJhbGciOiJSUzI1NiIsInR5cCIgOiAiSldUIiwia2lkIi...</td>\n",
       "      <td>755</td>\n",
       "      <td>NaN</td>\n",
       "    </tr>\n",
       "    <tr>\n",
       "      <th>2</th>\n",
       "      <td>501</td>\n",
       "      <td>1800249</td>\n",
       "      <td>/node/1754?check_logged_in=1</td>\n",
       "      <td>2024-01-04 13:40:34</td>\n",
       "      <td>Para mí</td>\n",
       "      <td>SARMIENTO DOMINGO FAUSTINO 1242</td>\n",
       "      <td>NaN</td>\n",
       "      <td>1242</td>\n",
       "      <td>NaN</td>\n",
       "      <td>87300.0</td>\n",
       "      <td>...</td>\n",
       "      <td>NaN</td>\n",
       "      <td>quiero saber como se realiza una habilitacion ...</td>\n",
       "      <td>[webform:handler:remote_post_pic:completed:dat...</td>\n",
       "      <td>https://gestorpic.rosario.gob.ar/inicio/webfor...</td>\n",
       "      <td>27265509180</td>\n",
       "      <td>3</td>\n",
       "      <td>sanysilva@icloud.com</td>\n",
       "      <td>eyJhbGciOiJSUzI1NiIsInR5cCIgOiAiSldUIiwia2lkIi...</td>\n",
       "      <td>755</td>\n",
       "      <td>NaN</td>\n",
       "    </tr>\n",
       "    <tr>\n",
       "      <th>3</th>\n",
       "      <td>502</td>\n",
       "      <td>1804219</td>\n",
       "      <td>/node/1754</td>\n",
       "      <td>2024-01-05 15:00:21</td>\n",
       "      <td>Para mí</td>\n",
       "      <td>SAN JUAN 3011</td>\n",
       "      <td>NaN</td>\n",
       "      <td>NaN</td>\n",
       "      <td>NaN</td>\n",
       "      <td>85650.0</td>\n",
       "      <td>...</td>\n",
       "      <td>NaN</td>\n",
       "      <td>Hola quiero consultar ya que quiero realizar u...</td>\n",
       "      <td>8536-2024</td>\n",
       "      <td>https://gestorpic.rosario.gob.ar/inicio/webfor...</td>\n",
       "      <td>27426087443</td>\n",
       "      <td>2</td>\n",
       "      <td>sianuu.robledo@gmail.com</td>\n",
       "      <td>eyJhbGciOiJSUzI1NiIsInR5cCIgOiAiSldUIiwia2lkIi...</td>\n",
       "      <td>755</td>\n",
       "      <td>NaN</td>\n",
       "    </tr>\n",
       "    <tr>\n",
       "      <th>4</th>\n",
       "      <td>503</td>\n",
       "      <td>1809440</td>\n",
       "      <td>/node/1754?check_logged_in=1</td>\n",
       "      <td>2024-01-08 08:57:03</td>\n",
       "      <td>Para mí</td>\n",
       "      <td>NECOCHEA GRAL. MARIANO 3453</td>\n",
       "      <td>NaN</td>\n",
       "      <td>NaN</td>\n",
       "      <td>NaN</td>\n",
       "      <td>71000.0</td>\n",
       "      <td>...</td>\n",
       "      <td>NaN</td>\n",
       "      <td>Para hacerme el monotributo me pide el contado...</td>\n",
       "      <td>11972-2024</td>\n",
       "      <td>https://gestorpic.rosario.gob.ar/inicio/webfor...</td>\n",
       "      <td>20302544124</td>\n",
       "      <td>2</td>\n",
       "      <td>chukycuervosl@hotmail.com</td>\n",
       "      <td>eyJhbGciOiJSUzI1NiIsInR5cCIgOiAiSldUIiwia2lkIi...</td>\n",
       "      <td>755</td>\n",
       "      <td>NaN</td>\n",
       "    </tr>\n",
       "  </tbody>\n",
       "</table>\n",
       "<p>5 rows × 34 columns</p>\n",
       "</div>"
      ],
      "text/plain": [
       "   Serial number  Submission ID                Submission URI  \\\n",
       "0            499        1794755  /node/1754?check_logged_in=1   \n",
       "1            500        1798854                    /node/1754   \n",
       "2            501        1800249  /node/1754?check_logged_in=1   \n",
       "3            502        1804219                    /node/1754   \n",
       "4            503        1809440  /node/1754?check_logged_in=1   \n",
       "\n",
       "               Creado           La consulta es   \\\n",
       "0 2024-01-03 09:26:32  Para una tercera persona   \n",
       "1 2024-01-04 09:13:08                  Para mí    \n",
       "2 2024-01-04 13:40:34                  Para mí    \n",
       "3 2024-01-05 15:00:21                  Para mí    \n",
       "4 2024-01-08 08:57:03                  Para mí    \n",
       "\n",
       "  Domicilio: Dirección del consultante  Domicilio: ubi_o_outRos  \\\n",
       "0    NUEVE DE JULIO y RODRIGUEZ MARTIN                      NaN   \n",
       "1                         CORDOBA 1000                      NaN   \n",
       "2      SARMIENTO DOMINGO FAUSTINO 1242                      NaN   \n",
       "3                        SAN JUAN 3011                      NaN   \n",
       "4          NECOCHEA GRAL. MARIANO 3453                      NaN   \n",
       "\n",
       "  Domicilio: Piso Domicilio: Dpto  Domicilio: id_calle  ...  \\\n",
       "0             NaN             NaN              72000.0  ...   \n",
       "1             NaN             NaN              43000.0  ...   \n",
       "2            1242             NaN              87300.0  ...   \n",
       "3             NaN             NaN              85650.0  ...   \n",
       "4             NaN             NaN              71000.0  ...   \n",
       "\n",
       "   Número de: establecimiento o certficado de hablitación o TGI  \\\n",
       "0                                            3185320              \n",
       "1                                                NaN              \n",
       "2                                                NaN              \n",
       "3                                                NaN              \n",
       "4                                                NaN              \n",
       "\n",
       "                                  Contenido consulta  \\\n",
       "0  - la actividad declarada 829100 corresponde a ...   \n",
       "1  Buenos días. Quisiera consultar \"Qué tipo de h...   \n",
       "2  quiero saber como se realiza una habilitacion ...   \n",
       "3  Hola quiero consultar ya que quiero realizar u...   \n",
       "4  Para hacerme el monotributo me pide el contado...   \n",
       "\n",
       "                                      codigo_gestion  \\\n",
       "0                                          3423-2024   \n",
       "1                                          5585-2024   \n",
       "2  [webform:handler:remote_post_pic:completed:dat...   \n",
       "3                                          8536-2024   \n",
       "4                                         11972-2024   \n",
       "\n",
       "                                                 PDF         cuit nivel  \\\n",
       "0  https://gestorpic.rosario.gob.ar/inicio/webfor...  27147589943         \n",
       "1  https://gestorpic.rosario.gob.ar/inicio/webfor...  27373328451         \n",
       "2  https://gestorpic.rosario.gob.ar/inicio/webfor...  27265509180     3   \n",
       "3  https://gestorpic.rosario.gob.ar/inicio/webfor...  27426087443     2   \n",
       "4  https://gestorpic.rosario.gob.ar/inicio/webfor...  20302544124     2   \n",
       "\n",
       "                           mail  \\\n",
       "0        alepedrido@hotmail.com   \n",
       "1  jumadacunhakessler@gmail.com   \n",
       "2          sanysilva@icloud.com   \n",
       "3      sianuu.robledo@gmail.com   \n",
       "4     chukycuervosl@hotmail.com   \n",
       "\n",
       "                                        access_token cod_tramite  \\\n",
       "0  eyJhbGciOiJSUzI1NiIsInR5cCIgOiAiSldUIiwia2lkIi...         755   \n",
       "1  eyJhbGciOiJSUzI1NiIsInR5cCIgOiAiSldUIiwia2lkIi...         755   \n",
       "2  eyJhbGciOiJSUzI1NiIsInR5cCIgOiAiSldUIiwia2lkIi...         755   \n",
       "3  eyJhbGciOiJSUzI1NiIsInR5cCIgOiAiSldUIiwia2lkIi...         755   \n",
       "4  eyJhbGciOiJSUzI1NiIsInR5cCIgOiAiSldUIiwia2lkIi...         755   \n",
       "\n",
       "                                  Análisis de la rta  \n",
       "0  Lo enviaron al CMD dado que con el nro. de est...  \n",
       "1                                                NaN  \n",
       "2                                                NaN  \n",
       "3                                                NaN  \n",
       "4                                                NaN  \n",
       "\n",
       "[5 rows x 34 columns]"
      ]
     },
     "execution_count": 25,
     "metadata": {},
     "output_type": "execute_result"
    }
   ],
   "source": [
    "import pandas as pd\n",
    "\n",
    "data = pd.read_excel('/home/gcasado0/proyectos/chatbot/Consultas_habilitaciones.xlsx')\n",
    "data.head()"
   ]
  },
  {
   "cell_type": "code",
   "execution_count": 31,
   "metadata": {},
   "outputs": [],
   "source": [
    "consulta = data['Contenido consulta'][0]"
   ]
  },
  {
   "cell_type": "code",
   "execution_count": 32,
   "metadata": {},
   "outputs": [
    {
     "name": "stdout",
     "output_type": "stream",
     "text": [
      "```json\n",
      "{\n",
      "  \"Temas\": \"Código actividad, Alicuotas, Clasificación, Plus pago,  Polirrubro\",\n",
      "  \"Sentimiento\": \"Preocupación, confusión\",\n",
      "  \"Enojo\": \"No\"\n",
      "}\n",
      "```\n",
      "\n"
     ]
    }
   ],
   "source": [
    "prompt = f\"\"\"\n",
    "Determine cinco temas que se están tratando en el siguiente texto, que está delimitado por tres comillas invertidas.\n",
    "Haga que cada elemento tenga una o dos palabras.\n",
    "Formatee su respuesta como una lista de elementos separados por comas.\n",
    "Indique el sentimiento general del texto.\n",
    "Indique si el remitente está expresando enojo.\n",
    "Texto: '''{consulta}'''\n",
    "Salida en formato JSON:\n",
    "\"Temas\": \n",
    "\"Sentimiento\": \n",
    "\"Enojo\": \"Si/No\"\n",
    "\"\"\"\n",
    "response = model.generate_content(prompt)\n",
    "print(response.text)"
   ]
  }
 ],
 "metadata": {
  "kernelspec": {
   "display_name": "chatbot",
   "language": "python",
   "name": "python3"
  },
  "language_info": {
   "codemirror_mode": {
    "name": "ipython",
    "version": 3
   },
   "file_extension": ".py",
   "mimetype": "text/x-python",
   "name": "python",
   "nbconvert_exporter": "python",
   "pygments_lexer": "ipython3",
   "version": "3.12.3"
  }
 },
 "nbformat": 4,
 "nbformat_minor": 2
}
