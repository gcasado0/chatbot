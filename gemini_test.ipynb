{
 "cells": [
  {
   "cell_type": "code",
   "execution_count": 12,
   "metadata": {},
   "outputs": [],
   "source": [
    "from time import sleep\n",
    "import google.generativeai as genai\n",
    "import configparser\n",
    "import json\n",
    "import re\n",
    "import pandas as pd"
   ]
  },
  {
   "cell_type": "code",
   "execution_count": 2,
   "metadata": {},
   "outputs": [],
   "source": [
    "# leer archivo config.ini\n",
    "config = configparser.ConfigParser()\n",
    "config.read('config.ini')\n",
    "GOOGLE_API_KEY = config['GOOGLE']['GOOGLE_API_KEY']\n",
    "genai.configure(api_key=GOOGLE_API_KEY)\n",
    "model = genai.GenerativeModel('gemini-1.5-flash')"
   ]
  },
  {
   "cell_type": "code",
   "execution_count": null,
   "metadata": {},
   "outputs": [],
   "source": [
    "consulta = \"\"\"\n",
    "\"Buenas tardes, \n",
    "al intentar iniciar el tramite de renovación de habilitación Municipal sin modificaciones el sistema nos devuelve el siguiente mensaje:\n",
    "\"\"Advertencia\n",
    "Deberás realizar el Trámite de Renovación con modificaciones - Modificar Actividad porque hemos detectado diferencias entre la/s actividad/es y el/los destino/s del último certificado otorgado.\"\"\n",
    "como debemos proceder para renovar la habilitación y cuales son las diferencias detectadas?\n",
    "Gracias\n",
    "Saludos\n",
    "\"\"\"\n",
    "\n",
    "prompt = f\"\"\"\n",
    "Determine cinco temas que se están tratando en el siguiente texto, que está delimitado por tres comillas invertidas.\n",
    "Haga que cada elemento tenga una o dos palabras.\n",
    "Formatee su respuesta como una lista de elementos separados por comas.\n",
    "Indique el sentimiento general del texto.\n",
    "Indique si el remitente está expresando enojo.\n",
    "Texto: '''{consulta}'''\n",
    "Salida en formato JSON:\n",
    "\"Temas\": \n",
    "\"Sentimiento\": \n",
    "\"Enojo\": \"Si/No\"\n",
    "\"\"\"\n",
    "response = model.generate_content(\n",
    "        prompt,\n",
    "        generation_config = genai.GenerationConfig(\n",
    "        temperature=0.0,\n",
    "        )\n",
    "    )\n",
    "\n",
    "print(response.text)"
   ]
  },
  {
   "cell_type": "markdown",
   "metadata": {},
   "source": [
    "Recorrer la lista de consultas de habilitaciones y obtener tematicas claves y sentimientos de las mismas\n"
   ]
  },
  {
   "cell_type": "code",
   "execution_count": null,
   "metadata": {},
   "outputs": [],
   "source": [
    "data = pd.read_excel('/home/gcasado0/proyectos/chatbot/Consultas_habilitaciones.xlsx')\n",
    "data.head()"
   ]
  },
  {
   "cell_type": "code",
   "execution_count": null,
   "metadata": {},
   "outputs": [],
   "source": [
    "# recorrer todo el dataframe data y extraer el resumen, temas, sentimientos, enojo, complejidad y no sabe actividad\n",
    "\n",
    "for i, row in data.iterrows():\n",
    "\n",
    "    # ResourceExhausted: 429 Resource has been exhausted (e.g. check quota)\n",
    "    sleep(5) # para no exceder la cuota de Google de 15 requests por minuto\n",
    "    consulta = data['Contenido consulta'][i]\n",
    "    # si la consulta es nula o el largo de la consulta es menor a 10 caracteres no la proceso\n",
    "    if pd.isnull(consulta) or len(consulta) < 10:\n",
    "        continue    \n",
    "    prompt = f\"\"\"\n",
    "    Extraer un resumen de lo que quiere el remitente en la siguiente consulta, que está delimitada por tres comillas invertidas.\n",
    "    Extraer los temas principales de la consulta.\n",
    "    Haga que cada elemento tenga una o dos palabras. Formatee su respuesta como una lista de elementos separados por comas.\n",
    "    Indique el sentimiento general del texto.\n",
    "    Indique si el remitente está expresando enojo.\n",
    "    Indique si la consulta es simple de resolver o no.\n",
    "    Indique si el remitente no sabe que actividad elegir para su habilitacion.\n",
    "\n",
    "    Texto: '''{consulta}'''\n",
    "    Salida en formato JSON:\n",
    "    \"Resumen\":\n",
    "    \"Temas\": \n",
    "    \"Sentimientos\": \n",
    "    \"Enojo\": \"Si/No\"\n",
    "    \"Complejidad\": \"Simple/Compleja\"\n",
    "    \"No sabe actividad\": \"Si/No\"\n",
    "    \"\"\"\n",
    "    response = model.generate_content(\n",
    "        prompt,\n",
    "        generation_config = genai.GenerationConfig(\n",
    "        temperature=0.0,\n",
    "        )\n",
    "                                      )\n",
    "    print(response.text)\n",
    "    # Extraer el contenido JSON del Markdown\n",
    "    markdown_text = response.text\n",
    "\n",
    "    # Usar una expresión regular para extraer el contenido JSON\n",
    "    json_match = re.search(r'```json\\n(.*?)\\n```', markdown_text, re.DOTALL)\n",
    "    if json_match:\n",
    "        json_string = json_match.group(1)\n",
    "        try:\n",
    "            # Convertir la cadena de texto a un objeto JSON\n",
    "            analisis = json.loads(json_string)\n",
    "            # Agregar respuesta al dataframe data por cada campo de response.text\n",
    "            data.loc[i, 'Resumen'] = analisis.get('Resumen', 'None')\n",
    "            data.loc[i, 'Temas'] = analisis.get('Temas', [])\n",
    "            data.loc[i, 'Complejidad'] = analisis.get('Complejidad', 'None')\n",
    "            data.loc[i, 'Sentimientos'] = analisis.get('Sentimientos', 'None')\n",
    "            data.loc[i, 'Enojo'] = analisis.get('Enojo', 'None')\n",
    "            # No sabe actividad\n",
    "            data.loc[i, 'No sabe actividad'] = analisis.get('No sabe actividad', 'None')\n",
    "\n",
    "        except json.JSONDecodeError as e:\n",
    "            print(f\"Error al decodificar JSON: {e}\")\n",
    "    else:\n",
    "        print(\"No se encontró contenido JSON en la respuesta.\")\n",
    "\n",
    "# extraer del dataframe solo las siguientes columnas: 'Contenido consulta', 'Resumen', 'Temas', 'Sentimientos', 'Enojo'\n",
    "data_analizado = data[['Temática ','Contenido consulta', 'Resumen', 'Temas','Complejidad', 'Sentimientos', 'Enojo','No sabe actividad']]\n",
    "\n",
    "# guardar el dataframe data con las respuestas en un archivo Excel\n",
    "data_analizado.to_excel('Consultas_habilitaciones_resumen.xlsx', index=False)\n"
   ]
  }
 ],
 "metadata": {
  "kernelspec": {
   "display_name": "chatbot",
   "language": "python",
   "name": "python3"
  },
  "language_info": {
   "codemirror_mode": {
    "name": "ipython",
    "version": 3
   },
   "file_extension": ".py",
   "mimetype": "text/x-python",
   "name": "python",
   "nbconvert_exporter": "python",
   "pygments_lexer": "ipython3",
   "version": "3.12.3"
  }
 },
 "nbformat": 4,
 "nbformat_minor": 2
}
