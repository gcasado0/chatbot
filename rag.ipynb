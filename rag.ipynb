{
 "cells": [
  {
   "cell_type": "code",
   "execution_count": 1,
   "metadata": {},
   "outputs": [],
   "source": [
    "from langchain_ollama import OllamaLLM\n",
    "llm = OllamaLLM(model=\"llama3\", temperature=0) #deterministico"
   ]
  },
  {
   "cell_type": "code",
   "execution_count": 2,
   "metadata": {},
   "outputs": [
    {
     "data": {
      "text/plain": [
       "'LangGraph is a graph-based language model that represents natural language as a graph structure. It\\'s a novel approach to modeling language, which can be used for various NLP tasks such as text classification, sentiment analysis, and machine translation.\\n\\nIn traditional language models, words are represented as vectors in a high-dimensional space (e.g., word embeddings like Word2Vec or GloVe). LangGraph takes a different approach by representing sentences or texts as graphs, where nodes represent words or subwords, and edges capture the relationships between them.\\n\\nThe graph structure is designed to capture various aspects of language, such as:\\n\\n1. **Word order**: The order in which words appear in a sentence.\\n2. **Dependency relations**: The grammatical relationships between words, like subject-verb-object dependencies.\\n3. **Semantic roles**: The roles played by entities in a sentence (e.g., \"agent\" or \"patient\").\\n4. **Coreference**: The relationships between pronouns and their antecedents.\\n\\nBy representing language as a graph, LangGraph can leverage the strengths of graph-based models for tasks like:\\n\\n1. **Text classification**: By analyzing the graph structure, LangGraph can classify texts based on their semantic meaning.\\n2. **Sentiment analysis**: The graph can help identify sentiment patterns and relationships between words.\\n3. **Machine translation**: LangGraph can be used to translate texts by aligning the graph structures of source and target languages.\\n\\nLangGraph has been shown to outperform traditional language models in certain tasks, particularly those that require capturing complex semantic relationships between words. However, it\\'s still a relatively new approach, and more research is needed to fully explore its potential and limitations.'"
      ]
     },
     "execution_count": 2,
     "metadata": {},
     "output_type": "execute_result"
    }
   ],
   "source": [
    "llm.invoke(\"What is LangGraph?\")"
   ]
  },
  {
   "cell_type": "code",
   "execution_count": 16,
   "metadata": {},
   "outputs": [],
   "source": [
    "from langchain_community.document_loaders import WebBaseLoader\n",
    "# Lista de URLs\n",
    "urls = [\n",
    "    \"https://www.rosario.gob.ar/inicio/licencia-de-conducir\",\n",
    "    \"https://www.rosario.gob.ar/inicio/duplicado-de-licencia-de-conducir\",\n",
    "    \"https://www.rosario.gob.ar/inicio/nueva-licencia-de-conducir\",\n",
    "    \"https://www.rosario.gob.ar/inicio/renovacion-de-licencia-de-conducir\",\n",
    "    \"https://www.rosario.gob.ar/inicio/renovacion-de-licencia-de-conducir-con-ampliacion\"\n",
    "]\n",
    "\n",
    "\n",
    "loader = WebBaseLoader(web_path=urls)\n",
    "docs = loader.load()"
   ]
  },
  {
   "cell_type": "code",
   "execution_count": 18,
   "metadata": {},
   "outputs": [
    {
     "data": {
      "text/plain": [
       "'\\n\\n\\n\\n\\n\\n\\n\\n\\n\\n\\n\\n\\n\\n\\n\\n\\n\\n\\n\\nDuplicado de licencia de conducir | rosario.gob.ar \\n\\n\\n\\n\\n\\n\\n\\n\\n\\n\\n\\n\\n\\n\\n\\n\\n\\n\\n\\n\\n\\n\\n\\n\\n\\n\\n\\n\\n\\n\\n\\n\\n\\n\\n\\n\\n\\n\\n\\n\\n\\n\\n\\n\\n\\n\\n\\n\\n\\n\\nIr al contenido principal\\n\\n\\n\\n\\n\\n\\n\\n\\n              rosario.gob.ar\\n\\n\\n\\n\\nBuscar en rosario.gob.ar\\n\\n\\n\\n\\n\\n\\n\\n\\nServicios\\n\\n\\nPerfil digital\\n\\n\\nConsultas y reclamos\\n\\n\\nDenuncias\\n\\n\\nActividad económica y trabajo\\n\\n\\nAmbiente y mantenimiento urbano\\n\\n\\nCementerios\\n\\n\\nCiudad y turismo\\n\\n\\nCultura y educación\\n\\n\\nDeportes y recreación\\n\\n\\nImpuestos y tasas\\n\\n\\nMovilidad y tránsito\\n\\n\\nParticipación, transparencia e información pública\\n\\n\\nPersonas y Comunidades\\n\\n\\nSalud\\n\\n\\nSalud animal\\n\\n\\nVivienda y construcción\\n\\n\\n\\n\\nGobierno\\n\\n\\nAutoridades y secretarías\\n\\n\\nPersonal municipal\\n\\n\\nPresupuesto\\n\\n\\nModernización\\n\\n\\nInfomapa\\n\\n\\nInformes y datos\\n\\n\\nCompras y licitaciones\\n\\n\\nNormativa\\n\\n\\nNoticias\\n\\n\\n\\n\\nAgenda\\n\\n\\n\\n\\n\\n\\n\\n\\n\\n\\n\\n\\n\\n\\n\\n\\n\\n\\n\\n\\n\\n\\n\\n\\n\\n\\n\\n\\n\\n\\n\\n\\n\\n\\n\\n\\n\\n\\n\\n\\n\\nBuscar\\n\\n\\n\\n\\n\\n\\n\\n\\n\\n\\n\\n\\n\\n\\n\\n\\n\\n\\nServicios\\n\\n\\nPerfil digital\\n\\n\\nConsultas y reclamos\\n\\n\\nDenuncias\\n\\n\\nActividad económica y trabajo\\n\\n\\nAmbiente y mantenimiento urbano\\n\\n\\nCementerios\\n\\n\\nCiudad y turismo\\n\\n\\nCultura y educación\\n\\n\\nDeportes y recreación\\n\\n\\nImpuestos y tasas\\n\\n\\nMovilidad y tránsito\\n\\n\\nParticipación, transparencia e información pública\\n\\n\\nPersonas y Comunidades\\n\\n\\nSalud\\n\\n\\nSalud animal\\n\\n\\nVivienda y construcción\\n\\n\\n\\n\\nGobierno\\n\\n\\nAutoridades y secretarías\\n\\n\\nPersonal municipal\\n\\n\\nPresupuesto\\n\\n\\nModernización\\n\\n\\nInfomapa\\n\\n\\nInformes y datos\\n\\n\\nCompras y licitaciones\\n\\n\\nNormativa\\n\\n\\nNoticias\\n\\n\\n\\n\\nAgenda\\n\\n\\n\\n\\n\\n\\n\\nInformación importante\\n\\n\\n\\n\\n\\n\\n\\n\\nInicio\\n\\n\\nDuplicado de licencia de conducir\\n\\n\\n\\n\\n\\n\\n\\n\\n\\n\\n\\n\\n\\n\\n\\n\\n\\n\\n\\n\\n\\n\\n\\n\\n\\n\\n\\n\\n \\nEste trámite se realiza si querés obtener el\\xa0duplicado de una licencia emitida en la provincia de Santa Fe por robo, pérdida o modificación de datos personales y/o restricciones.\\n\\n\\n\\n \\n\\n\\n\\n\\n\\n!\\n\\nAlerta\\nPara realizar trámites online en la Muni es necesario que tengas Perfil Digital. Si todavía no tenes una cuenta,\\xa0registrate.\\n\\n\\n\\n\\n\\n\\n\\n\\n\\n \\nRequisitos\\n\\n\\n\\n \\n\\nLa licencia no debe estar vencida al momento de la emisión del duplicado.\\nNo tener multas en Rosario ni en la Provincia de Santa Fe. Consultalas:\\xa0municipales\\xa0y\\xa0provinciales.\\n\\nSolo si corresponde:\\n\\n\\nDescargar\\xa0y completar\\xa0la\\xa0Declaración jurada por extravío.\\n\\n\\n\\n\\n\\n \\nExamen psicofísico\\n\\n\\n\\n \\nÚnicamente tenes que rendir el psicofísico si:\\n\\npasó más de un año de la fecha en que rendiste el psicofísico\\xa0de la licencia a duplicar.\\nsi la licencia a duplicar fue emitida por otra jurisdicción (independientemente del tiempo transcurrido)\\n\\nSi pasó menos de un año de la fecha en que rendiste el psicofísico de la licencia a duplicar no tenés que rendirlo nuevamente, tampoco el teórico ni el práctico.\\xa0Agendá un turno.\\n\\n\\n\\n\\n\\n\\n\\n\\n\\n\\n                      Agendar turno\\n                    \\n\\n\\n\\nSi cumplis con los requisitos:Agendá un turnoSi querés duplicar una licencia profesional de servicios públicos (D1, D2 o D3) enviá un correo a\\xa0turnosclasesd@rosario.gob.ar\\xa0incluyendo tu nombre y apellido, DNI y un teléfono de contacto.Una vez agendado, te va a llegar un\\xa0mail como constancia de turno\\xa0en el que vas a tener a mano lo que necesitás saber para asistir el día del examen.\\xa0El próximo paso es abonar los sellados.\\n\\n\\n\\n\\n\\n\\n                      Sellados a pagar\\n                    \\n\\n\\n\\nSi pasó menos de un año\\xa0de la fecha en que rendiste el psicofísico\\xa0de la licencia a duplicar deberás abonar $6.800\\xa0del Certificado Nacional de Antecedentes de Tránsito (CeNAT) y $5.726,70\\xa0del sellado municipal.Si pasó más de un año de la fecha en que rendiste el psicofísico de la licencia a duplicar deberás abonar $6.800\\xa0del Certificado Nacional de Antecedentes de Tránsito (CeNAT) y el monto del sellado municipal según los años de vigencia restantes que tenga la licencia:Menos de 1 año de emisión $5.726,70Hasta 1 año restante $14.926,70Hasta 2 años restantes $17.126,70Hasta 3 años restantes $19.326,70Hasta 4 años restantes $21.526,70Hasta 5 años restantes $23.726,70Es necesario que al momento del turno del psicofísico, las boletas estén abonadas.Si sos\\xa0miembro\\xa0activo de la \"Asociación de Bomberos Voluntarios de Rosario 27\" (registrado en la nómina y domiciliado en Rosario)\\xa0y vas a tramitar una licencia que incluye clase D3 sólo deberás abonar el importe correspondiente al CENAT. (Decretos HCM 63298 y 65574, Decreto reglamentario 1143/2024)\\n\\n\\n\\n\\n\\n\\n                      Qué documentación llevar al examen\\n                    \\n\\n\\n\\nEl día del turno presentate 15 minutos antes con la siguiente documentación:\\n\\nBoletas abonadas de ambos sellados\\nDNI,\\xa0DNI Digital\\xa0o constancia de DNI en trámite\\xa0(con domicilio actual)\\nFotocopia del DNI (frente y dorso)\\n\\nSolo si corresponde:\\n\\nFormulario Declaración jurada por extravío\\nLicencias anteriores en caso de querer modificar datos\\nEn caso de enfermedad, informe de examen psicofísico o certificado médico\\nCertificado Único de Veterano de Guerra de Malvinas para que en la licencia de conducir se registre la leyenda “Ex combatiente, héroe de la guerra de las Islas Malvinas”\\n\\nUna vez que completes las instancias correspondientes obtendrás el duplicado de tu Licencia Nacional de Conducir.\\n\\n\\n\\n\\n\\n \\n\\n\\n\\n\\n\\n\\n\\nCómo pagar boleta CeNAT\\n\\n\\n\\n1) CeNAT (Certificado Nacional de Antecedentes de Tránsito)\\nDe manera virtual\\n\\nTarjeta de débito: desde Plus Pagos\\xa0o\\xa0escaneando el QR de la primera hoja de la boleta.\\nMercado Pago: escaneando el código de barras de la primera hoja de la boleta.\\nMODO: escaneando el\\xa0QR de la primera hoja de la boleta.\\n\\nDe manera presencial\\n\\nEn cualquier sucursal de Munipagos:\\xa0presentar la segunda hoja de la boleta.\\nEn cualquier sucursal de Santa Fe Servicios: presentar la segunda hoja de la boleta.\\nEn cualquier sucursal de\\xa0Pago fácil:\\xa0presentar la primera hoja de la boleta.\\nEn el Banco Nación: presentar\\xa0la primera hoja de la boleta.\\n\\n\\n\\n\\n\\n\\n\\n\\n\\n\\n \\n\\n\\n\\n\\n\\n\\n\\nCómo pagar boleta sellado municipal\\n\\n\\n\\nTené en cuenta que la boleta es una sola, pero contiene dos códigos de barra que se abonan por separado: sellado municipal y colegio de médicos.\\nDe manera virtual\\n\\nTarjeta de débito o crédito: desde Pagos del Banco Municipal (Red Banelco o\\xa0Red Link)\\n\\nDe manera presencial\\n\\nEn cualquier sucursal de Munipagos.\\nEn cualquier sucursal de Santa Fe Servicios.\\nEn cualquier sucursal de\\xa0Pago fácil.\\n\\n\\n\\n\\n\\n\\n\\n\\n\\n\\n \\nExámenes teórico y práctico\\n\\n\\n\\n\\n\\n\\n\\n\\n\\n\\n                      En qué casos rendir el práctico\\n                    \\n\\n\\n\\nCuando quieras modificar una restricción en la licencia por cambio de vehículo. Ejemplo: caja automática, embrague centrífugo, uso de anteojos, etc.\\nUna vez que comiences el trámite administrativo, se te informará cómo obtener el turno para el examen.\\n\\n\\n\\n\\n\\n\\n                      En qué casos rendir teórico y práctico\\n                    \\n\\n\\n\\nDeberás realizar el curso, rendir el examen teórico y rendir el examen práctico si:\\n\\ntuviste inhabilitaciones en el año anterior a la fecha de inicio de trámite.\\ntuviste inhabilitaciones por más de 15 días desde la fecha de tu última licencia emitida, hasta la fecha de inicio del nuevo trámite.\\n\\nAgendá un turno para:\\n\\nCurso teórico.\\nExamen teórico.\\nExamen práctico.\\n\\nCada vez que agendes, va a llegar a tu correo electrónico una constancia de turno para que tengas a mano información de cada instancia.\\n\\n\\n\\n\\n\\n\\n\\n\\n\\n\\nQuita de restricción o modificación de datos\\n\\n\\n\\nSi querés gestionar el duplicado de tu licencia de conducir por quita de restricción o modificación de datos y pasó menos de un año\\xa0de la fecha en que rendiste el psicofísico, solo deberás rendir el examen práctico.\\xa0Agendá un turno.Si pasó más de un año, deberás rendir también el psicofísico. Agendá un turno.\\n\\n\\n\\n\\n \\n\\n\\n \\nConsultas y contacto\\nSi tenés consultas o querés reportar algún\\xa0inconveniente\\xa0con el trámite,\\xa0completá este formulario.\\nFacebook:\\xa0DGT.Rosario\\nInstagram: @dgt_rosario\\nX (Twitter): @DGTRosario\\n\\n\\n\\n\\n\\n\\n\\n\\n\\n\\n\\n\\n\\n\\n\\n\\n\\n\\n\\nEnviar mensaje por WhatsApp\\n\\n\\n\\n\\n\\n\\n\\n\\n\\n\\n\\n\\n\\n\\n\\n\\n\\n\\n\\n\\n\\n\\n\\n\\n\\n\\nNos interesa tu opinión\\n¿Encontraste lo que buscabas?\\n\\nSi\\nNo\\nCOMENTANOS TU OPINIÓN\\n\\n\\n                Gracias por tu respuesta.\\n              \\n\\n\\n\\n\\nAyudanos a mejorar Rosario.gob.ar\\n\\nNos gustaría saber más sobre tu visita y los inconvenientes que tuviste. No te preocupes, no vamos a enviarte spam ni compartir tu dirección de correo electrónico con nadie.\\n\\n\\nEmail\\n\\n\\n\\n\\nMensaje\\n\\n\\n\\n\\n\\n\\n\\n\\n\\n\\n\\n\\nacciones\\n\\n\\nCerrar\\n\\n\\n\\n\\n\\n\\n\\n\\n\\n\\n\\n\\n\\n\\n\\n\\n\\n\\n\\n\\n\\n\\n\\n\\n\\n\\n\\n\\n\\n\\n\\n\\nServicios\\n\\nActividad económica y trabajo\\nAmbiente y mantenimiento urbano\\nCementerios\\nCiudad y turismo\\nCultura y educación\\nDeportes y recreación\\nImpuestos y tasas\\nMovilidad y tránsito\\nPersonas y comunidades\\nSalud\\nSalud animal\\nVivienda y construcción\\n\\n\\n\\xa0\\n\\n\\n\\n\\n\\n\\nMapa de Rosario: Infomapa\\nRedes sociales:\\xa0Facebook | Twitter | YouTube | Instagram\\n\\n\\n\\n\\n\\n\\n\\n\\nTérminos y condiciones\\n\\n\\n\\nTodos los contenidos se presentan bajo licencia Creative Commons 4.0 salvo especificación contraria. Municipalidad de Rosario. Buenos Aires 711, Rosario, Santa Fe, Argentina (1997 - 2024)\\n\\n\\n\\n\\n\\n\\n\\n\\n\\n\\n\\n\\n\\n\\n\\n\\n\\n'"
      ]
     },
     "execution_count": 18,
     "metadata": {},
     "output_type": "execute_result"
    }
   ],
   "source": [
    "docs[1].page_content"
   ]
  },
  {
   "cell_type": "code",
   "execution_count": 19,
   "metadata": {},
   "outputs": [
    {
     "data": {
      "text/plain": [
       "10149"
      ]
     },
     "execution_count": 19,
     "metadata": {},
     "output_type": "execute_result"
    }
   ],
   "source": [
    "len(docs[0].page_content)"
   ]
  },
  {
   "cell_type": "code",
   "execution_count": 20,
   "metadata": {},
   "outputs": [],
   "source": [
    "from langchain_text_splitters import RecursiveCharacterTextSplitter\n",
    "\n",
    "text_splitter = RecursiveCharacterTextSplitter(\n",
    "    chunk_size=1000,\n",
    "    chunk_overlap=200,    \n",
    "    add_start_index=True,\n",
    ")"
   ]
  },
  {
   "cell_type": "code",
   "execution_count": 21,
   "metadata": {},
   "outputs": [],
   "source": [
    "all_splits = text_splitter.split_documents(docs)"
   ]
  },
  {
   "cell_type": "code",
   "execution_count": 22,
   "metadata": {},
   "outputs": [
    {
     "data": {
      "text/plain": [
       "72"
      ]
     },
     "execution_count": 22,
     "metadata": {},
     "output_type": "execute_result"
    }
   ],
   "source": [
    "len(all_splits)"
   ]
  },
  {
   "cell_type": "code",
   "execution_count": 8,
   "metadata": {},
   "outputs": [
    {
     "data": {
      "text/plain": [
       "'Buscar\\n\\n\\n\\n\\n\\n\\n\\n\\n\\n\\n\\n\\n\\n\\n\\n\\n\\n\\nServicios\\n\\n\\nPerfil digital\\n\\n\\nConsultas y reclamos\\n\\n\\nDenuncias\\n\\n\\nActividad económica y trabajo\\n\\n\\nAmbiente y mantenimiento urbano\\n\\n\\nCementerios\\n\\n\\nCiudad y turismo\\n\\n\\nCultura y educación\\n\\n\\nDeportes y recreación\\n\\n\\nImpuestos y tasas\\n\\n\\nMovilidad y tránsito\\n\\n\\nParticipación, transparencia e información pública\\n\\n\\nPersonas y Comunidades\\n\\n\\nSalud\\n\\n\\nSalud animal\\n\\n\\nVivienda y construcción\\n\\n\\n\\n\\nGobierno\\n\\n\\nAutoridades y secretarías\\n\\n\\nPersonal municipal\\n\\n\\nPresupuesto\\n\\n\\nModernización\\n\\n\\nInfomapa\\n\\n\\nInformes y datos\\n\\n\\nCompras y licitaciones\\n\\n\\nNormativa\\n\\n\\nNoticias\\n\\n\\n\\n\\nAgenda\\n\\n\\n\\n\\n\\n\\n\\nInformación importante\\n\\n\\n\\n\\n\\n\\n\\n\\nInicio\\n\\n\\nLicencia de conducir\\n\\n\\n\\n\\n\\n\\n\\n\\n\\n\\n\\n\\n\\n\\n\\n\\n\\n\\n\\n\\n \\nLa licencia nacional de conducir es un documento único que habilita legalmente a un/a ciudadano/a a conducir uno o más tipos de vehículos. Las clases se incluyen en una única credencial.\\n\\n\\n\\n \\n\\nPARTICULARES\\n\\nNueva licencia\\nRenovación\\nAmpliación\\nDuplicado\\n\\n\\n\\n\\n \\n\\nPROFESIONALES\\n\\nRenovación\\nAmpliación\\nDuplicado'"
      ]
     },
     "execution_count": 8,
     "metadata": {},
     "output_type": "execute_result"
    }
   ],
   "source": [
    "all_splits[1].page_content"
   ]
  },
  {
   "cell_type": "code",
   "execution_count": 9,
   "metadata": {},
   "outputs": [],
   "source": [
    "from langchain_ollama import OllamaEmbeddings\n",
    "\n",
    "embedding = OllamaEmbeddings(\n",
    "    model = \"nomic-embed-text\"\n",
    ")"
   ]
  },
  {
   "cell_type": "code",
   "execution_count": 23,
   "metadata": {},
   "outputs": [],
   "source": [
    "from langchain_community.vectorstores import Chroma\n",
    "vectorstore = Chroma.from_documents(\n",
    "    documents = all_splits, \n",
    "    embedding = embedding\n",
    "    )"
   ]
  },
  {
   "cell_type": "code",
   "execution_count": 24,
   "metadata": {},
   "outputs": [],
   "source": [
    "retriever = vectorstore.as_retriever(\n",
    "    search_type=\"similarity\",\n",
    "    search_kwargs={\"k\": 6}\n",
    "    )"
   ]
  },
  {
   "cell_type": "code",
   "execution_count": 13,
   "metadata": {},
   "outputs": [
    {
     "name": "stderr",
     "output_type": "stream",
     "text": [
      "/tmp/ipykernel_3935/3014629624.py:1: LangChainDeprecationWarning: The method `BaseRetriever.get_relevant_documents` was deprecated in langchain-core 0.1.46 and will be removed in 1.0. Use :meth:`~invoke` instead.\n",
      "  retriever.get_relevant_documents(query=\"Que es el Cenat?\")\n"
     ]
    },
    {
     "data": {
      "text/plain": [
       "[Document(metadata={'language': 'es', 'source': 'https://www.rosario.gob.ar/inicio/licencia-de-conducir', 'start_index': 3269, 'title': 'Licencia de conducir | rosario.gob.ar '}, page_content='Cómo pagar boleta CeNAT\\n\\n\\n\\n1) CeNAT (Certificado Nacional de Antecedentes de Tránsito)\\nDe manera virtual\\n\\nTarjeta de débito: desde Plus Pagos\\xa0o\\xa0escaneando el QR de la primera hoja de la boleta.\\nMercado Pago: escaneando el código de barras de la primera hoja de la boleta.\\nMODO: escaneando el\\xa0QR de la primera hoja de la boleta.\\n\\nDe manera presencial\\n\\nEn cualquier sucursal de Munipagos:\\xa0presentar la segunda hoja de la boleta.\\nEn cualquier sucursal de Santa Fe Servicios: presentar la segunda hoja de la boleta.\\nEn cualquier sucursal de\\xa0Pago fácil:\\xa0presentar la primera hoja de la boleta.\\nEn el Banco Nación: presentar\\xa0la primera hoja de la boleta.\\n\\n\\n\\n\\n\\n\\n\\n\\n\\n\\n \\n\\n\\n\\n\\n\\n\\n\\nCómo pagar boleta sellado municipal\\n\\n\\n\\nTené en cuenta que la boleta es una sola, pero contiene dos códigos de barra que se abonan por separado: sellado municipal y colegio de médicos.\\nDe manera virtual\\n\\nTarjeta de débito o crédito: desde Pagos del Banco Municipal (Red Banelco o\\xa0Red Link)\\n\\nDe manera presencial'),\n",
       " Document(metadata={'language': 'es', 'source': 'https://www.rosario.gob.ar/inicio/licencia-de-conducir', 'start_index': 2417, 'title': 'Licencia de conducir | rosario.gob.ar '}, page_content='Esta clase se otorga en combinación con las clases B1, B2 y las profesionales en general. Corresponde a vehículos automotores especialmente adaptados a la condición física de su titular.\\n\\n\\n\\n\\n\\n\\n \\nConsultá la\\xa0tabla de clases y vigencias por edad.\\nOtros trámites relacionados\\n\\nInformar asistencia a curso dictado por academia de conductor\\nQuitar restricciones o modificar datos de la licencia\\nCanjear licencia emitida en Chile, Colombia, España o Italia\\n\\n\\n\\n\\n\\n\\n\\n\\n\\nObtener Certificado de legalidad\\n\\n\\n\\nSe gestiona en la\\xa0Agencia Provincial de Seguridad Vial Sede Rosario. Domicilio y contacto:\\n\\nSanta Fe 1950 2\\nlicenciadeconducir@santafe.gov.ar\\xa0\\n4721526\\n\\n\\n\\n\\n\\n\\n \\nMedios de pago\\nPara tramitar cualquier tipo de licencia, deberás abonar el Certificado Nacional de Antecedentes de Tránsito (CeNAT) y el sellado municipal (incluye Colegio de Médicos).\\n\\n\\n\\n \\n\\n\\n\\n\\n\\n\\n\\nCómo pagar boleta CeNAT\\n\\n\\n\\n1) CeNAT (Certificado Nacional de Antecedentes de Tránsito)\\nDe manera virtual'),\n",
       " Document(metadata={'language': 'es', 'source': 'https://www.rosario.gob.ar/inicio/licencia-de-conducir', 'start_index': 4140, 'title': 'Licencia de conducir | rosario.gob.ar '}, page_content='Tarjeta de débito o crédito: desde Pagos del Banco Municipal (Red Banelco o\\xa0Red Link)\\n\\nDe manera presencial\\n\\nEn cualquier sucursal de Munipagos.\\nEn cualquier sucursal de Santa Fe Servicios.\\nEn cualquier sucursal de\\xa0Pago fácil.\\n\\n\\n\\n\\n\\n\\n\\n\\n\\n\\n \\n\\n\\n\\n\\n\\n\\n\\n\\n\\n\\n                      Qué hacer si venció tu licencia\\n                    \\n\\n\\n\\nTené en cuenta que no podrás, bajo ninguna circunstancia, conducir con una licencia vencida hasta que no completes el proceso de renovación.\\n\\nSi venció hace menos de un año, gestioná\\xa0la\\xa0renovación\\xa0de tu licencia.\\nSi venció hace más de un año, gestioná una\\xa0nueva licencia de conducir. Tendrás que completar\\xa0todas las instancias de evaluación: examen psicofísico, curso de educación vial, examen teórico y\\xa0práctico. Recordá que el inicio del trámite no te habilita a conducir.\\n\\n\\n\\n\\n\\n\\n\\n                      Qué hacer si cambiaste de domicilio'),\n",
       " Document(metadata={'language': 'es', 'source': 'https://www.rosario.gob.ar/inicio/licencia-de-conducir', 'start_index': 20, 'title': 'Licencia de conducir | rosario.gob.ar '}, page_content='Licencia de conducir | rosario.gob.ar \\n\\n\\n\\n\\n\\n\\n\\n\\n\\n\\n\\n\\n\\n\\n\\n\\n\\n\\n\\n\\n\\n\\n\\n\\n\\n\\n\\n\\n\\n\\n\\n\\n\\n\\n\\n\\n\\n\\n\\n\\n\\n\\n\\n\\n\\n\\n\\n\\n\\nIr al contenido principal\\n\\n\\n\\n\\n\\n\\n\\n\\n              rosario.gob.ar\\n\\n\\n\\n\\nBuscar en rosario.gob.ar\\n\\n\\n\\n\\n\\n\\n\\n\\nServicios\\n\\n\\nPerfil digital\\n\\n\\nConsultas y reclamos\\n\\n\\nDenuncias\\n\\n\\nActividad económica y trabajo\\n\\n\\nAmbiente y mantenimiento urbano\\n\\n\\nCementerios\\n\\n\\nCiudad y turismo\\n\\n\\nCultura y educación\\n\\n\\nDeportes y recreación\\n\\n\\nImpuestos y tasas\\n\\n\\nMovilidad y tránsito\\n\\n\\nParticipación, transparencia e información pública\\n\\n\\nPersonas y Comunidades\\n\\n\\nSalud\\n\\n\\nSalud animal\\n\\n\\nVivienda y construcción\\n\\n\\n\\n\\nGobierno\\n\\n\\nAutoridades y secretarías\\n\\n\\nPersonal municipal\\n\\n\\nPresupuesto\\n\\n\\nModernización\\n\\n\\nInfomapa\\n\\n\\nInformes y datos\\n\\n\\nCompras y licitaciones\\n\\n\\nNormativa\\n\\n\\nNoticias\\n\\n\\n\\n\\nAgenda\\n\\n\\n\\n\\n\\n\\n\\n\\n\\n\\n\\n\\n\\n\\n\\n\\n\\n\\n\\n\\n\\n\\n\\n\\n\\n\\n\\n\\n\\n\\n\\n\\n\\n\\n\\n\\n\\n\\n\\n\\n\\nBuscar\\n\\n\\n\\n\\n\\n\\n\\n\\n\\n\\n\\n\\n\\n\\n\\n\\n\\n\\nServicios\\n\\n\\nPerfil digital\\n\\n\\nConsultas y reclamos\\n\\n\\nDenuncias\\n\\n\\nActividad económica y trabajo\\n\\n\\nAmbiente y mantenimiento urbano\\n\\n\\nCementerios\\n\\n\\nCiudad y turismo'),\n",
       " Document(metadata={'language': 'es', 'source': 'https://www.rosario.gob.ar/inicio/licencia-de-conducir', 'start_index': 4971, 'title': 'Licencia de conducir | rosario.gob.ar '}, page_content='Qué hacer si cambiaste de domicilio\\n                    \\n\\n\\n\\nImportante: desde la fecha en que iniciás el trámite de cambio de domicilio en tu DNI, tenés 90 días para realizar la modificación en tu Licencia de Conducir. Cumplido dicho plazo, tu licencia anterior caducará y no estarás habilitado a conducir (art. 18 de la Ley Nacional de Tránsito 24.449).\\nCómo gestionar el cambio\\nSi tu Licencia es Nacional y además:'),\n",
       " Document(metadata={'language': 'es', 'source': 'https://www.rosario.gob.ar/inicio/licencia-de-conducir', 'start_index': 5389, 'title': 'Licencia de conducir | rosario.gob.ar '}, page_content='El cambio es dentro de la provincia de Santa Fe:\\xa0agendá un turno para\\xa0renovación de la licencia de conducir. El día que te presentes a realizar el trámite se verificará la fecha del cambio de domicilio y la licencia anterior. Allí se determinarán las etapas que deberás cumplir para obtener tu licencia.\\nEl cambio es desde otra provincia:\\xa0agendá turno para una\\xa0nueva licencia de conducir, pese a que se gestione como una renovación. El día que te presentes a realizar el trámite se verificará la fecha del cambio de domicilio y la licencia anterior. Allí se determinarán las etapas que deberás cumplir para obtener tu licencia.')]"
      ]
     },
     "execution_count": 13,
     "metadata": {},
     "output_type": "execute_result"
    }
   ],
   "source": [
    "retriever.get_relevant_documents(query=\"Que es el Cenat?\")"
   ]
  },
  {
   "cell_type": "code",
   "execution_count": 12,
   "metadata": {},
   "outputs": [
    {
     "name": "stderr",
     "output_type": "stream",
     "text": [
      "/home/gcasado0/proyectos/chatbot/chatbot/lib/python3.12/site-packages/langsmith/client.py:241: LangSmithMissingAPIKeyWarning: API key must be provided when using hosted LangSmith API\n",
      "  warnings.warn(\n"
     ]
    }
   ],
   "source": [
    "from langchain import hub\n",
    "prompt = hub.pull(\"rlm/rag-prompt\")"
   ]
  },
  {
   "cell_type": "code",
   "execution_count": 13,
   "metadata": {},
   "outputs": [],
   "source": [
    "def format_docs(docs):\n",
    "    return \"\\n\\n\".join(doc.page_content for doc in docs)"
   ]
  },
  {
   "cell_type": "code",
   "execution_count": 25,
   "metadata": {},
   "outputs": [],
   "source": [
    "from langchain_core.runnables import RunnablePassthrough\n",
    "from langchain_core.output_parsers import StrOutputParser\n",
    "rag_chain = ( \n",
    "    {\"context\": retriever | format_docs, \"question\": RunnablePassthrough()}\n",
    "    | prompt\n",
    "    | llm\n",
    "    | StrOutputParser()\n",
    "    )"
   ]
  },
  {
   "cell_type": "code",
   "execution_count": 27,
   "metadata": {},
   "outputs": [
    {
     "data": {
      "text/plain": [
       "'Para obtener el duplicado de tu licencia, debes descargar y completar la Declaración jurada por extravío.'"
      ]
     },
     "execution_count": 27,
     "metadata": {},
     "output_type": "execute_result"
    }
   ],
   "source": [
    "rag_chain.invoke(\"extravie mi licencia que tengo que llevar para hacer el duplicado? responder en español\")"
   ]
  }
 ],
 "metadata": {
  "kernelspec": {
   "display_name": "chatbot",
   "language": "python",
   "name": "python3"
  },
  "language_info": {
   "codemirror_mode": {
    "name": "ipython",
    "version": 3
   },
   "file_extension": ".py",
   "mimetype": "text/x-python",
   "name": "python",
   "nbconvert_exporter": "python",
   "pygments_lexer": "ipython3",
   "version": "3.12.3"
  }
 },
 "nbformat": 4,
 "nbformat_minor": 2
}
